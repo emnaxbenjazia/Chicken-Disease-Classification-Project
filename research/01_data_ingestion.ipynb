{
 "cells": [
  {
   "cell_type": "code",
   "execution_count": 5,
   "id": "675ef839",
   "metadata": {},
   "outputs": [],
   "source": [
    "import os"
   ]
  },
  {
   "cell_type": "code",
   "execution_count": 7,
   "id": "a1a09877",
   "metadata": {},
   "outputs": [
    {
     "data": {
      "text/plain": [
       "'c:\\\\Users\\\\ben jazia\\\\OneDrive\\\\Documents\\\\GitHub\\\\Chicken-Disease-MLOps project\\\\Chicken-Disease-Classification-Project'"
      ]
     },
     "execution_count": 7,
     "metadata": {},
     "output_type": "execute_result"
    }
   ],
   "source": [
    "# since this notebook is inside research folder, this notebook automatically executed in that folder.\n",
    "# we can test this using this command and it will show us which directory we're in\n",
    "%pwd\n",
    "# we need to change to work inside chicken-disease-classification-project (we go back one level)"
   ]
  },
  {
   "cell_type": "code",
   "execution_count": 6,
   "id": "925da7c3",
   "metadata": {},
   "outputs": [],
   "source": [
    "os.chdir(\"../\")"
   ]
  },
  {
   "cell_type": "code",
   "execution_count": null,
   "id": "bdf1d1b6",
   "metadata": {},
   "outputs": [],
   "source": [
    "from dataclasses import dataclass\n",
    "from pathlib import Path\n",
    "# this is an entity and it will be copied inside config_entity.py\n",
    "# @dataclass → a decorator that automatically gives you a constructor (__init__), __repr__, __eq__, etc.\n",
    "# frozen=True → makes the object immutable (once created, you can’t change its fields)\n",
    "# which is useful for configs, we dont want them to be changed by mistake\n",
    "@dataclass(frozen=True)\n",
    "class DataIngestionConfig: # = Entity. a structured object that holds all the config values for the ingestion step:\n",
    "    root_dir: Path # where artifacts are stored (like artifacts/data_ingestion)\n",
    "    source_URL: str # dataset link (my S3 URL)\n",
    "    local_data_file: Path # path to store the downloaded zip\n",
    "    unzip_dir: Path # path where the zip is extracted\n",
    "\n",
    "# The role of Entities here:\n",
    "# Instead of passing around raw dictionaries or YAML everywhere, you load the YAML once and convert it into this Entity.\n",
    "# Entities = structured data holders. They map configs (from YAML) into Python objects with type safety.\n",
    "# Entities act as bridges between your config.yaml file and the pipeline code:\n",
    "# You load YAML.\n",
    "# You wrap values into Entities (DataIngestionConfig, …).\n",
    "# You pass those Entities to the pipeline components."
   ]
  },
  {
   "cell_type": "code",
   "execution_count": 10,
   "id": "8bfe19e5",
   "metadata": {},
   "outputs": [],
   "source": [
    "from cnnChickenDiseaseClassifier.constants import *\n",
    "from cnnChickenDiseaseClassifier.utils.common import read_yaml, create_directories"
   ]
  },
  {
   "cell_type": "markdown",
   "id": "0bff867a",
   "metadata": {},
   "source": [
    "### ^ Why can we type cnnChickenDiseaseClassifier.constants instead of a real path ?\n",
    "because that's how packages work. since there's an __init__.py file in cnnChickenDiseaseClassifier, it's treated as a package. \n",
    "When I installed my project in editable mode (pip install -e .), Python adds my src/ folder to the environment’s import path (sys.path).\n",
    "which is why we can use a dot (because import system uses dots) instead of C:/.."
   ]
  },
  {
   "cell_type": "markdown",
   "id": "a0b2cdf4",
   "metadata": {},
   "source": [
    "## Now, we're making the ConfigurationManager class.\n",
    "Think of it as the brain that manages configs during runtime:\n",
    "- Converts raw YAML values into a strongly-typed object (DataIngestionConfig) that can be passed to components like DataIngestion.\n",
    "- This makes downstream code cleaner: no dict lookups everywhere, just attributes (config.root_dir etc.).\n",
    "\n",
    "#### ConfigurationManager should be inside config/configuration.py in most cases,\n",
    "but here I think the tutorial is just using the notebook to experiment and explain before moving it there."
   ]
  },
  {
   "cell_type": "code",
   "execution_count": 16,
   "id": "e196896b",
   "metadata": {},
   "outputs": [],
   "source": [
    "class ConfigurationManager:\n",
    "    def __init__(\n",
    "        self,\n",
    "        config_filepath = CONFIG_FILE_PATH,\n",
    "        params_filepath = PARAMS_FILE_PATH):\n",
    "\n",
    "        self.config = read_yaml(config_filepath)\n",
    "        self.params = read_yaml(params_filepath)\n",
    "\n",
    "        create_directories([self.config.artifacts_root]) # = \"create_directories([\"artifacts\"])\"\"\n",
    "        # ^ we can use the . here instead of [artifacts] because, remember, read_yaml returns a Box Type (this is exactly why we made it return ConfigBox)\n",
    "\n",
    "\n",
    "    \n",
    "    def get_data_ingestion_config(self) -> DataIngestionConfig: # here, we're making it return a DataIngestionConfig type, which we defined earlier as an Entity (structure) for data ingestion configuration\n",
    "        config = self.config.data_ingestion \n",
    "\n",
    "        create_directories([config.root_dir]) # will create artifacts/data_ingestion as specified in config.yaml\n",
    "\n",
    "        data_ingestion_config = DataIngestionConfig(\n",
    "            root_dir=config.root_dir,\n",
    "            source_URL=config.source_URL,\n",
    "            local_data_file=config.local_data_file,\n",
    "            unzip_dir=config.unzip_dir \n",
    "        )\n",
    "\n",
    "        return data_ingestion_config"
   ]
  },
  {
   "cell_type": "code",
   "execution_count": 12,
   "id": "187c4e2f",
   "metadata": {},
   "outputs": [],
   "source": [
    "import os\n",
    "import urllib.request as request\n",
    "import zipfile\n",
    "from cnnChickenDiseaseClassifier import logger\n",
    "from cnnChickenDiseaseClassifier.utils.common import get_size"
   ]
  },
  {
   "cell_type": "markdown",
   "id": "0468281e",
   "metadata": {},
   "source": [
    "### The DataIngestion class\n",
    "This class is the component that actually performs ingestion. We will copy it isnide components/data_ingestion.py\n",
    "\n",
    "\n",
    "It expects a DataIngestionConfig object to know where to download, where to store the zip, where to unzip, etc.\n",
    "\n",
    "#### How they work together\n",
    "ConfigurationManager loads YAML → creates DataIngestionConfig.\n",
    "DataIngestion takes that config → runs logic (download + unzip)."
   ]
  },
  {
   "cell_type": "code",
   "execution_count": 20,
   "id": "81d3183e",
   "metadata": {},
   "outputs": [],
   "source": [
    "class DataIngestion:\n",
    "    def __init__(self, config: DataIngestionConfig):\n",
    "        self.config = config\n",
    "\n",
    "    \n",
    "    def download_file(self):\n",
    "        if not os.path.exists(self.config.local_data_file):\n",
    "            filename, headers = request.urlretrieve(\n",
    "                url = self.config.source_URL,\n",
    "                filename = self.config.local_data_file\n",
    "            )\n",
    "            logger.info(f\"{filename} download! with following info: \\n{headers}\")\n",
    "        else:\n",
    "            logger.info(f\"File already exists of size: {get_size(Path(self.config.local_data_file))}\")  \n",
    "# Idempotent download: if data.zip isn’t there, download it; otherwise log size and skip.\n",
    "# urlretrieve returns (filename, headers); they log both.\n",
    "# Uses a helper get_size(...) (we have it in utils/common.py) and a logger.\n",
    "\n",
    "\n",
    "    \n",
    "    def extract_zip_file(self):\n",
    "        \"\"\"\n",
    "        zip_file_path: str\n",
    "        Extracts the zip file into the data directory\n",
    "        Function returns None\n",
    "        \"\"\"\n",
    "        unzip_path = self.config.unzip_dir\n",
    "        os.makedirs(unzip_path, exist_ok=True)\n",
    "        with zipfile.ZipFile(self.config.local_data_file, 'r') as zip_ref:\n",
    "            zip_ref.extractall(unzip_path)\n",
    "    # Ensures the unzip directory exists, then extracts the zip there."
   ]
  },
  {
   "cell_type": "markdown",
   "id": "13db8ef4",
   "metadata": {},
   "source": [
    "### Now, we create the pipeline\n",
    "\n",
    "this little block is the “glue” that ties together everything we built"
   ]
  },
  {
   "cell_type": "code",
   "execution_count": null,
   "id": "7f459c22",
   "metadata": {},
   "outputs": [
    {
     "name": "stdout",
     "output_type": "stream",
     "text": [
      "[2025-09-09 21:11:29,413: INFO: common: yaml file: config\\config.yaml loaded successfully]\n",
      "[2025-09-09 21:11:29,415: INFO: common: yaml file: params.yaml loaded successfully]\n",
      "[2025-09-09 21:11:29,417: INFO: common: created directory at: artifacts]\n",
      "[2025-09-09 21:11:29,419: INFO: common: created directory at: artifacts/data_ingestion]\n"
     ]
    },
    {
     "name": "stdout",
     "output_type": "stream",
     "text": [
      "[2025-09-09 21:28:59,593: INFO: 546546027: artifacts/data_ingestion/data.zip download! with following info: \n",
      "x-amz-id-2: G0Ax7ylopw7x4tsbybt+5vnx8/5fPT0sMn1Cycta12TcQmXHju/NNkz1GOAz/jLZ5PJeM2ZV4wg=\n",
      "x-amz-request-id: 3QDH6ZAZAYGBSDR7\n",
      "Date: Tue, 09 Sep 2025 20:11:36 GMT\n",
      "Last-Modified: Tue, 09 Sep 2025 18:34:34 GMT\n",
      "ETag: \"bb6a3a82d4f888efb31eb0698bed0fc9\"\n",
      "x-amz-server-side-encryption: AES256\n",
      "Accept-Ranges: bytes\n",
      "Content-Type: application/zip\n",
      "Content-Length: 11616915\n",
      "Server: AmazonS3\n",
      "Connection: close\n",
      "\n",
      "]\n"
     ]
    }
   ],
   "source": [
    "try: # This code will be copied in the data_ingestion pipeline inside main in stage_01_data_ingestion\n",
    "    config = ConfigurationManager()\n",
    "    data_ingestion_config = config.get_data_ingestion_config()\n",
    "    data_ingestion = DataIngestion(config=data_ingestion_config)\n",
    "    data_ingestion.download_file()\n",
    "    data_ingestion.extract_zip_file()\n",
    "except Exception as e:\n",
    "    raise e"
   ]
  },
  {
   "cell_type": "code",
   "execution_count": null,
   "id": "abee76e5",
   "metadata": {},
   "outputs": [],
   "source": []
  }
 ],
 "metadata": {
  "kernelspec": {
   "display_name": "chicken",
   "language": "python",
   "name": "python3"
  },
  "language_info": {
   "codemirror_mode": {
    "name": "ipython",
    "version": 3
   },
   "file_extension": ".py",
   "mimetype": "text/x-python",
   "name": "python",
   "nbconvert_exporter": "python",
   "pygments_lexer": "ipython3",
   "version": "3.11.0"
  }
 },
 "nbformat": 4,
 "nbformat_minor": 5
}
